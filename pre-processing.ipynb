{
 "cells": [
  {
   "cell_type": "markdown",
   "metadata": {},
   "source": [
    "# Extracting the product images from the given BSON file"
   ]
  },
  {
   "cell_type": "markdown",
   "metadata": {},
   "source": [
    "## Make the folders"
   ]
  },
  {
   "cell_type": "code",
   "execution_count": 1,
   "metadata": {},
   "outputs": [],
   "source": [
    "import io\n",
    "import bson \n",
    "from skimage.io import imread, imsave \n",
    "import os\n",
    "import pandas as pd\n",
    "from tqdm import tqdm\n",
    "\n",
    "# initialize the file names and the folder names that we will use \n",
    "bson_file = 'train.bson'\n",
    "image_dir = 'train_images'\n",
    "\n",
    "#create a folder to save the images \n",
    "if not os.path.exists(image_dir):  # if it does not exists, we create it\n",
    "    os.makedirs(image_dir)"
   ]
  },
  {
   "cell_type": "markdown",
   "metadata": {},
   "source": [
    "### As there are 7 million images in total, we cannot extract all of them and it takes up a huge amount of space which is not available in a single box they take up a total of more than 700GB of space if extracted."
   ]
  },
  {
   "cell_type": "markdown",
   "metadata": {},
   "source": [
    "* Hence we extract only 1 million images by uniformly sampling across the whole dataset so that we can cover maximum amount of product categories with minimum number of images.\n",
    "* Here we will skip 6 million images while parsing through the BSON file."
   ]
  },
  {
   "cell_type": "code",
   "execution_count": 4,
   "metadata": {},
   "outputs": [],
   "source": [
    "import random\n",
    "n = 7069896 #total number of data points \n",
    "sample_size = 1000000 \n",
    "skip_values = sorted(random.sample(range(1,n), n-sample_size))"
   ]
  },
  {
   "cell_type": "markdown",
   "metadata": {},
   "source": [
    "### Data extraction from the BSON (Binary Java Script Object Notation) file"
   ]
  },
  {
   "cell_type": "code",
   "execution_count": 12,
   "metadata": {},
   "outputs": [
    {
     "name": "stderr",
     "output_type": "stream",
     "text": [
      "7069893it [58:04:38, 33.81it/s] "
     ]
    },
    {
     "name": "stdout",
     "output_type": "stream",
     "text": [
      "time elapsed is  209078.5652191639\n"
     ]
    },
    {
     "name": "stderr",
     "output_type": "stream",
     "text": [
      "\n"
     ]
    }
   ],
   "source": [
    "# Here we are not able to use multiprocessing due to various compatibility issues which are leading higher overhead time and crash issues.\n",
    "# Data processing\n",
    "import warnings\n",
    "warnings.filterwarnings(\"ignore\")\n",
    "\n",
    "import time\n",
    "start_time= time.time()\n",
    "\n",
    "data = bson.decode_file_iter(open('train.bson', 'rb'))\n",
    "\n",
    "#variables to store various attributes about the data which we will use to construct a dataframe\n",
    "product_ids = []\n",
    "category_ids = []\n",
    "image_paths = []\n",
    "\n",
    "#keep track of the count till we extract 1 million images \n",
    "count=1\n",
    "\n",
    "#Loop through the bson generator to get the data\n",
    "for c, d in tqdm(enumerate(data)):\n",
    "    \n",
    "    #Here we will skip the 6 million images\n",
    "    if c in skip_values:\n",
    "        continue\n",
    "    \n",
    "    #store the product id and category id \n",
    "    product_id = d['_id']\n",
    "    category_id = d['category_id']\n",
    "    \n",
    "    #lop to extract the images of the given product id\n",
    "    #Here as there are mnultiple images available for each product we will extract only 1 image per product id\n",
    "    for e, pic in enumerate(d['imgs'],):\n",
    "        # This is used to terminate the loop after completing 1 iteration\n",
    "        if e != 0:\n",
    "            break\n",
    "        #read the image from the binary format \n",
    "        picture = imread(io.BytesIO(pic['picture']))\n",
    "        \n",
    "        #save the image name with product id and category id for easy inference\n",
    "        path = image_dir +'/'+ str(product_id) + \"_\" + str(category_id) + \".png\"\n",
    "        imsave(path, picture)\n",
    "        \n",
    "        #save the product_id, category_id and image-path in their respective lists\n",
    "        product_ids.append(product_id)\n",
    "        category_ids.append(category_id)\n",
    "        image_paths.append(path)\n",
    "    \n",
    "    #increment the count value and stop the loop after reaching 1 million images \n",
    "    count+=1\n",
    "    if count == 1000000:\n",
    "        break\n",
    "\n",
    "#finally print the time taken for the total extraction\n",
    "print(\"time elapsed is \", time.time() - start_time)"
   ]
  },
  {
   "cell_type": "markdown",
   "metadata": {},
   "source": [
    "## The whole extraction process took 58 hours...!"
   ]
  },
  {
   "cell_type": "markdown",
   "metadata": {},
   "source": [
    "### We will create a dataframe and store it to the disk for later use in exploratory data analysis"
   ]
  },
  {
   "cell_type": "code",
   "execution_count": 14,
   "metadata": {},
   "outputs": [
    {
     "name": "stdout",
     "output_type": "stream",
     "text": [
      "created the dataframe\n",
      "saved to csv file\n"
     ]
    }
   ],
   "source": [
    "# Save all of them in a dataframe\n",
    "\n",
    "df = pd.DataFrame(list(zip(image_paths, product_ids, category_ids)), columns=['image_path', 'product_id', 'category_id'])\n",
    "print('created the dataframe')\n",
    "df.to_csv('train_data.csv',index=False)\n",
    "print('saved to csv file')\n"
   ]
  },
  {
   "cell_type": "code",
   "execution_count": 15,
   "metadata": {},
   "outputs": [
    {
     "data": {
      "text/html": [
       "<div>\n",
       "<style scoped>\n",
       "    .dataframe tbody tr th:only-of-type {\n",
       "        vertical-align: middle;\n",
       "    }\n",
       "\n",
       "    .dataframe tbody tr th {\n",
       "        vertical-align: top;\n",
       "    }\n",
       "\n",
       "    .dataframe thead th {\n",
       "        text-align: right;\n",
       "    }\n",
       "</style>\n",
       "<table border=\"1\" class=\"dataframe\">\n",
       "  <thead>\n",
       "    <tr style=\"text-align: right;\">\n",
       "      <th></th>\n",
       "      <th>image_path</th>\n",
       "      <th>product_id</th>\n",
       "      <th>category_id</th>\n",
       "    </tr>\n",
       "  </thead>\n",
       "  <tbody>\n",
       "    <tr>\n",
       "      <th>0</th>\n",
       "      <td>train_images/0_1000010653.png</td>\n",
       "      <td>0</td>\n",
       "      <td>1000010653</td>\n",
       "    </tr>\n",
       "    <tr>\n",
       "      <th>1</th>\n",
       "      <td>train_images/7_1000004079.png</td>\n",
       "      <td>7</td>\n",
       "      <td>1000004079</td>\n",
       "    </tr>\n",
       "    <tr>\n",
       "      <th>2</th>\n",
       "      <td>train_images/9_1000018290.png</td>\n",
       "      <td>9</td>\n",
       "      <td>1000018290</td>\n",
       "    </tr>\n",
       "    <tr>\n",
       "      <th>3</th>\n",
       "      <td>train_images/15_1000015309.png</td>\n",
       "      <td>15</td>\n",
       "      <td>1000015309</td>\n",
       "    </tr>\n",
       "    <tr>\n",
       "      <th>4</th>\n",
       "      <td>train_images/19_1000014287.png</td>\n",
       "      <td>19</td>\n",
       "      <td>1000014287</td>\n",
       "    </tr>\n",
       "  </tbody>\n",
       "</table>\n",
       "</div>"
      ],
      "text/plain": [
       "                       image_path  product_id  category_id\n",
       "0   train_images/0_1000010653.png           0   1000010653\n",
       "1   train_images/7_1000004079.png           7   1000004079\n",
       "2   train_images/9_1000018290.png           9   1000018290\n",
       "3  train_images/15_1000015309.png          15   1000015309\n",
       "4  train_images/19_1000014287.png          19   1000014287"
      ]
     },
     "execution_count": 15,
     "metadata": {},
     "output_type": "execute_result"
    }
   ],
   "source": [
    "df.head()"
   ]
  }
 ],
 "metadata": {
  "interpreter": {
   "hash": "b3ba2566441a7c06988d0923437866b63cedc61552a5af99d1f4fb67d367b25f"
  },
  "kernelspec": {
   "display_name": "Python 3.8.8 64-bit ('base': conda)",
   "language": "python",
   "name": "python3"
  },
  "language_info": {
   "codemirror_mode": {
    "name": "ipython",
    "version": 3
   },
   "file_extension": ".py",
   "mimetype": "text/x-python",
   "name": "python",
   "nbconvert_exporter": "python",
   "pygments_lexer": "ipython3",
   "version": "3.8.8"
  },
  "orig_nbformat": 4
 },
 "nbformat": 4,
 "nbformat_minor": 2
}
